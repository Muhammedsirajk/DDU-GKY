{
 "cells": [
  {
   "cell_type": "markdown",
   "id": "44545a3a",
   "metadata": {},
   "source": [
    "NUMPY\n"
   ]
  },
  {
   "cell_type": "code",
   "execution_count": 1,
   "id": "8f865585",
   "metadata": {},
   "outputs": [],
   "source": [
    "import numpy as np\n"
   ]
  },
  {
   "cell_type": "code",
   "execution_count": 2,
   "id": "06b5be3d",
   "metadata": {},
   "outputs": [
    {
     "data": {
      "text/plain": [
       "array([10, 20, 30, 40, 50, 60])"
      ]
     },
     "execution_count": 2,
     "metadata": {},
     "output_type": "execute_result"
    }
   ],
   "source": [
    "a=np.array([10,20,30,40,50,60])\n",
    "a"
   ]
  },
  {
   "cell_type": "code",
   "execution_count": 4,
   "id": "2e241172",
   "metadata": {},
   "outputs": [
    {
     "data": {
      "text/plain": [
       "dtype('int32')"
      ]
     },
     "execution_count": 4,
     "metadata": {},
     "output_type": "execute_result"
    }
   ],
   "source": [
    "a.dtype\n",
    "\n"
   ]
  },
  {
   "cell_type": "code",
   "execution_count": 6,
   "id": "6db01cfa",
   "metadata": {},
   "outputs": [
    {
     "data": {
      "text/plain": [
       "(6,)"
      ]
     },
     "execution_count": 6,
     "metadata": {},
     "output_type": "execute_result"
    }
   ],
   "source": [
    "a.shape"
   ]
  },
  {
   "cell_type": "code",
   "execution_count": 7,
   "id": "0c14c89a",
   "metadata": {},
   "outputs": [
    {
     "data": {
      "text/plain": [
       "1"
      ]
     },
     "execution_count": 7,
     "metadata": {},
     "output_type": "execute_result"
    }
   ],
   "source": [
    "a.ndim"
   ]
  },
  {
   "cell_type": "code",
   "execution_count": 8,
   "id": "fe7d3090",
   "metadata": {},
   "outputs": [
    {
     "data": {
      "text/plain": [
       "6"
      ]
     },
     "execution_count": 8,
     "metadata": {},
     "output_type": "execute_result"
    }
   ],
   "source": [
    "a.size"
   ]
  },
  {
   "cell_type": "code",
   "execution_count": 9,
   "id": "13c65497",
   "metadata": {},
   "outputs": [
    {
     "data": {
      "text/plain": [
       "10"
      ]
     },
     "execution_count": 9,
     "metadata": {},
     "output_type": "execute_result"
    }
   ],
   "source": [
    "a[0]"
   ]
  },
  {
   "cell_type": "code",
   "execution_count": 11,
   "id": "ce815fb9",
   "metadata": {},
   "outputs": [
    {
     "data": {
      "text/plain": [
       "60"
      ]
     },
     "execution_count": 11,
     "metadata": {},
     "output_type": "execute_result"
    }
   ],
   "source": [
    "a[5]"
   ]
  },
  {
   "cell_type": "code",
   "execution_count": null,
   "id": "a9aef710",
   "metadata": {},
   "outputs": [],
   "source": []
  },
  {
   "cell_type": "code",
   "execution_count": 24,
   "id": "d13684f6",
   "metadata": {},
   "outputs": [
    {
     "data": {
      "text/plain": [
       "array([[ 1,  2,  3,  4,  5,  6],\n",
       "       [10, 20, 30, 40, 50, 60]])"
      ]
     },
     "execution_count": 24,
     "metadata": {},
     "output_type": "execute_result"
    }
   ],
   "source": [
    "a2d=np.array([[1,2,3,4,5,6],[10,20,30,40,50,60]])\n",
    "a2d"
   ]
  },
  {
   "cell_type": "code",
   "execution_count": 25,
   "id": "8bb39770",
   "metadata": {},
   "outputs": [
    {
     "data": {
      "text/plain": [
       "(2, 6)"
      ]
     },
     "execution_count": 25,
     "metadata": {},
     "output_type": "execute_result"
    }
   ],
   "source": [
    "a2d.shape"
   ]
  },
  {
   "cell_type": "code",
   "execution_count": 26,
   "id": "e10b48e8",
   "metadata": {},
   "outputs": [
    {
     "data": {
      "text/plain": [
       "2"
      ]
     },
     "execution_count": 26,
     "metadata": {},
     "output_type": "execute_result"
    }
   ],
   "source": [
    "a2d.ndim"
   ]
  },
  {
   "cell_type": "code",
   "execution_count": 28,
   "id": "8afc2d7e",
   "metadata": {},
   "outputs": [
    {
     "data": {
      "text/plain": [
       "dtype('int32')"
      ]
     },
     "execution_count": 28,
     "metadata": {},
     "output_type": "execute_result"
    }
   ],
   "source": [
    "a2d.dtype"
   ]
  },
  {
   "cell_type": "code",
   "execution_count": 38,
   "id": "6e39dead",
   "metadata": {},
   "outputs": [],
   "source": [
    "a3d=np.array([[[1]]],dtype=\"float\")"
   ]
  },
  {
   "cell_type": "code",
   "execution_count": 39,
   "id": "f8f41f03",
   "metadata": {},
   "outputs": [
    {
     "data": {
      "text/plain": [
       "array([[[1.]]])"
      ]
     },
     "execution_count": 39,
     "metadata": {},
     "output_type": "execute_result"
    }
   ],
   "source": [
    "a3d"
   ]
  },
  {
   "cell_type": "code",
   "execution_count": 33,
   "id": "208a5d1c",
   "metadata": {},
   "outputs": [
    {
     "data": {
      "text/plain": [
       "1"
      ]
     },
     "execution_count": 33,
     "metadata": {},
     "output_type": "execute_result"
    }
   ],
   "source": [
    "a2d[0][0]"
   ]
  },
  {
   "cell_type": "code",
   "execution_count": 34,
   "id": "1b38e27f",
   "metadata": {},
   "outputs": [
    {
     "data": {
      "text/plain": [
       "6"
      ]
     },
     "execution_count": 34,
     "metadata": {},
     "output_type": "execute_result"
    }
   ],
   "source": [
    "a2d[0][5]"
   ]
  },
  {
   "cell_type": "code",
   "execution_count": 36,
   "id": "b2f1d290",
   "metadata": {},
   "outputs": [
    {
     "data": {
      "text/plain": [
       "60"
      ]
     },
     "execution_count": 36,
     "metadata": {},
     "output_type": "execute_result"
    }
   ],
   "source": [
    "a2d[1][5]"
   ]
  },
  {
   "cell_type": "markdown",
   "id": "bc284d5b",
   "metadata": {},
   "source": [
    "filling\n"
   ]
  },
  {
   "cell_type": "code",
   "execution_count": 44,
   "id": "9c78eb63",
   "metadata": {},
   "outputs": [],
   "source": [
    "afull=np.full((3,5,4),7)"
   ]
  },
  {
   "cell_type": "code",
   "execution_count": 45,
   "id": "79ff8475",
   "metadata": {},
   "outputs": [
    {
     "data": {
      "text/plain": [
       "array([[[7, 7, 7, 7],\n",
       "        [7, 7, 7, 7],\n",
       "        [7, 7, 7, 7],\n",
       "        [7, 7, 7, 7],\n",
       "        [7, 7, 7, 7]],\n",
       "\n",
       "       [[7, 7, 7, 7],\n",
       "        [7, 7, 7, 7],\n",
       "        [7, 7, 7, 7],\n",
       "        [7, 7, 7, 7],\n",
       "        [7, 7, 7, 7]],\n",
       "\n",
       "       [[7, 7, 7, 7],\n",
       "        [7, 7, 7, 7],\n",
       "        [7, 7, 7, 7],\n",
       "        [7, 7, 7, 7],\n",
       "        [7, 7, 7, 7]]])"
      ]
     },
     "execution_count": 45,
     "metadata": {},
     "output_type": "execute_result"
    }
   ],
   "source": [
    "afull"
   ]
  },
  {
   "cell_type": "code",
   "execution_count": 46,
   "id": "312a39bd",
   "metadata": {},
   "outputs": [
    {
     "data": {
      "text/plain": [
       "3"
      ]
     },
     "execution_count": 46,
     "metadata": {},
     "output_type": "execute_result"
    }
   ],
   "source": [
    "afull.ndim"
   ]
  },
  {
   "cell_type": "code",
   "execution_count": 47,
   "id": "32a242d1",
   "metadata": {},
   "outputs": [],
   "source": [
    "azeros=np.zeros(5)"
   ]
  },
  {
   "cell_type": "code",
   "execution_count": 48,
   "id": "ab746576",
   "metadata": {},
   "outputs": [
    {
     "data": {
      "text/plain": [
       "array([0., 0., 0., 0., 0.])"
      ]
     },
     "execution_count": 48,
     "metadata": {},
     "output_type": "execute_result"
    }
   ],
   "source": [
    "azeros"
   ]
  },
  {
   "cell_type": "code",
   "execution_count": 51,
   "id": "064bf093",
   "metadata": {},
   "outputs": [
    {
     "data": {
      "text/plain": [
       "array([[0., 0., 0., 0., 0., 0.],\n",
       "       [0., 0., 0., 0., 0., 0.],\n",
       "       [0., 0., 0., 0., 0., 0.],\n",
       "       [0., 0., 0., 0., 0., 0.],\n",
       "       [0., 0., 0., 0., 0., 0.]])"
      ]
     },
     "execution_count": 51,
     "metadata": {},
     "output_type": "execute_result"
    }
   ],
   "source": [
    "bzeros=np.zeros((5,6))\n",
    "bzeros"
   ]
  },
  {
   "cell_type": "code",
   "execution_count": 52,
   "id": "0c52dbd4",
   "metadata": {},
   "outputs": [
    {
     "data": {
      "text/plain": [
       "array([[1., 1., 1., 1., 1., 1.],\n",
       "       [1., 1., 1., 1., 1., 1.],\n",
       "       [1., 1., 1., 1., 1., 1.],\n",
       "       [1., 1., 1., 1., 1., 1.],\n",
       "       [1., 1., 1., 1., 1., 1.]])"
      ]
     },
     "execution_count": 52,
     "metadata": {},
     "output_type": "execute_result"
    }
   ],
   "source": [
    "bones=np.ones((5,6))\n",
    "bones"
   ]
  },
  {
   "cell_type": "code",
   "execution_count": 53,
   "id": "6bbbcb2a",
   "metadata": {},
   "outputs": [
    {
     "data": {
      "text/plain": [
       "array([[6.23042070e-307, 4.67296746e-307, 1.69121096e-306,\n",
       "        2.33646845e-307],\n",
       "       [1.33511018e-306, 1.33511969e-306, 6.23037996e-307,\n",
       "        6.23053954e-307],\n",
       "       [9.34609790e-307, 8.45593934e-307, 9.34600963e-307,\n",
       "        9.34603000e-307],\n",
       "       [1.78018403e-306, 8.90106955e-307, 1.60218491e-306,\n",
       "        1.78018403e-306],\n",
       "       [1.69119330e-306, 6.23054633e-307, 1.24610927e-306,\n",
       "        1.05698817e-307],\n",
       "       [1.11261638e-306, 1.33511562e-306, 2.22522596e-306,\n",
       "        2.22522596e-306]])"
      ]
     },
     "execution_count": 53,
     "metadata": {},
     "output_type": "execute_result"
    }
   ],
   "source": [
    "e=np.empty((6,4))\n",
    "e"
   ]
  },
  {
   "cell_type": "code",
   "execution_count": 55,
   "id": "861a2ad2",
   "metadata": {},
   "outputs": [
    {
     "data": {
      "text/plain": [
       "array([[0.31752862, 0.67638716],\n",
       "       [0.30701253, 0.73010487],\n",
       "       [0.34749973, 0.92825756],\n",
       "       [0.67739282, 0.34516327],\n",
       "       [0.20721599, 0.21713318]])"
      ]
     },
     "execution_count": 55,
     "metadata": {},
     "output_type": "execute_result"
    }
   ],
   "source": [
    "arandom=np.random.random((5,2))\n",
    "arandom"
   ]
  },
  {
   "cell_type": "code",
   "execution_count": 56,
   "id": "cdaa9557",
   "metadata": {},
   "outputs": [
    {
     "data": {
      "text/plain": [
       "2"
      ]
     },
     "execution_count": 56,
     "metadata": {},
     "output_type": "execute_result"
    }
   ],
   "source": [
    "arandom.ndim"
   ]
  },
  {
   "cell_type": "code",
   "execution_count": 61,
   "id": "65e936e5",
   "metadata": {},
   "outputs": [
    {
     "data": {
      "text/plain": [
       "array([10, 15, 20, 25, 30, 35, 40, 45, 50, 55, 60, 65, 70, 75, 80, 85, 90,\n",
       "       95])"
      ]
     },
     "execution_count": 61,
     "metadata": {},
     "output_type": "execute_result"
    }
   ],
   "source": [
    "a_arrange=np.arange(10,100,5)\n",
    "a_arrange"
   ]
  },
  {
   "cell_type": "code",
   "execution_count": 62,
   "id": "7c7f7238",
   "metadata": {},
   "outputs": [
    {
     "data": {
      "text/plain": [
       "numpy.ndarray"
      ]
     },
     "execution_count": 62,
     "metadata": {},
     "output_type": "execute_result"
    }
   ],
   "source": [
    "price=(90,999,8989)\n",
    "price=np.array([90,999,8989])\n",
    "type(price)"
   ]
  },
  {
   "cell_type": "code",
   "execution_count": 63,
   "id": "e0760fe6",
   "metadata": {},
   "outputs": [
    {
     "data": {
      "text/plain": [
       "numpy.ndarray"
      ]
     },
     "execution_count": 63,
     "metadata": {},
     "output_type": "execute_result"
    }
   ],
   "source": [
    "s_array=np.array({\"fathima\",\"jopika\",\"kiran\",\"lubna\",8,9889,999})\n",
    "type(s_array)\n"
   ]
  },
  {
   "cell_type": "code",
   "execution_count": 64,
   "id": "422d5112",
   "metadata": {},
   "outputs": [
    {
     "name": "stdout",
     "output_type": "stream",
     "text": [
      "1\n"
     ]
    }
   ],
   "source": [
    "print(s_array.size)"
   ]
  },
  {
   "cell_type": "code",
   "execution_count": null,
   "id": "95d1813d",
   "metadata": {},
   "outputs": [],
   "source": []
  }
 ],
 "metadata": {
  "kernelspec": {
   "display_name": "Python 3 (ipykernel)",
   "language": "python",
   "name": "python3"
  },
  "language_info": {
   "codemirror_mode": {
    "name": "ipython",
    "version": 3
   },
   "file_extension": ".py",
   "mimetype": "text/x-python",
   "name": "python",
   "nbconvert_exporter": "python",
   "pygments_lexer": "ipython3",
   "version": "3.9.13"
  }
 },
 "nbformat": 4,
 "nbformat_minor": 5
}
